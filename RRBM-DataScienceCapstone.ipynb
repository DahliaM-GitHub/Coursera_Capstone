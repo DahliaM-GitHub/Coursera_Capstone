{
    "cells": [
        {
            "cell_type": "markdown",
            "metadata": {},
            "source": "## Introduction\n\nThis notebook will be used mainly for Data Science Capstone Project. 18Sep2020\n"
        },
        {
            "cell_type": "markdown",
            "metadata": {},
            "source": "## Importing Libraries"
        },
        {
            "cell_type": "code",
            "execution_count": 2,
            "metadata": {},
            "outputs": [],
            "source": "import pandas as pd\nimport numpy as np"
        },
        {
            "cell_type": "markdown",
            "metadata": {},
            "source": "## Printing the Statement"
        },
        {
            "cell_type": "code",
            "execution_count": 3,
            "metadata": {},
            "outputs": [
                {
                    "name": "stdout",
                    "output_type": "stream",
                    "text": "Hello Capstone Project Course!\n"
                }
            ],
            "source": "print(\"Hello Capstone Project Course!\")"
        },
        {
            "cell_type": "markdown",
            "metadata": {},
            "source": "## Introduction\n\nRoad accidents can occur to anyone anytime anywhere.  Fortunately, data on road accidents are continuously collected and are made available to everyone.  We want to understand and maximize on the value of the available data in order to help us prevent road accidents \u2013 that when given information on location and other external conditions, the possibility and severity of an accident can be predicted and prevented thereby assisting local government units in publishing this information to travelers along their local areas."
        },
        {
            "cell_type": "markdown",
            "metadata": {},
            "source": "## Data\n\u2022\tThe city of Seattle has a dataset on all collisions collected since 2004 to present, as provided by the Seattle Police District and recorded by Traffic Records.   The dataset has 194,673 observations with 37 attributes.   It has been downloaded as a csv file \u2013 DataCollisions.csv.  SEVERITYCODE will be used as the dependent variable, and several attributes will be useful as independent variables \u2013 location, weather condition, road condition, light condition.  "
        },
        {
            "cell_type": "code",
            "execution_count": null,
            "metadata": {},
            "outputs": [],
            "source": ""
        }
    ],
    "metadata": {
        "kernelspec": {
            "display_name": "Python 3.6",
            "language": "python",
            "name": "python3"
        },
        "language_info": {
            "codemirror_mode": {
                "name": "ipython",
                "version": 3
            },
            "file_extension": ".py",
            "mimetype": "text/x-python",
            "name": "python",
            "nbconvert_exporter": "python",
            "pygments_lexer": "ipython3",
            "version": "3.6.9"
        }
    },
    "nbformat": 4,
    "nbformat_minor": 4
}